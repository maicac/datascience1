{
  "nbformat": 4,
  "nbformat_minor": 0,
  "metadata": {
    "colab": {
      "provenance": []
    },
    "kernelspec": {
      "name": "python3",
      "display_name": "Python 3"
    },
    "language_info": {
      "name": "python"
    }
  },
  "cells": [
    {
      "cell_type": "markdown",
      "source": [
        "## **Metas**\n",
        " Identificar patrones en las adquisiciones de obras de arte que puedan mejorar la gestión y planeación futura del museo. Esto podría incluir tendencias en las adquisiciones, análisis de la representación de artistas por nacionalidad y género, y análisis de años de adquisición.\n"
      ],
      "metadata": {
        "id": "g8VRzJHUGRuX"
      }
    },
    {
      "cell_type": "markdown",
      "source": [
        "## ***Introducción***"
      ],
      "metadata": {
        "id": "O-vRm_nyCGbu"
      }
    },
    {
      "cell_type": "markdown",
      "source": [
        "**Contexto comercial.**\n",
        " El museo necesita optimizar sus adquisiciones de obras de arte en función de tendencias históricas y representación de artistas. Identificar patrones podría mejorar decisiones de compra y generar una colección más inclusiva y representativa.\n",
        " Los datos utilizados en este análisis provienen de un museo que ha estado recopilando información sobre sus adquisiciones de obras de arte a lo largo de varios años. Estas adquisiciones incluyen detalles sobre los artistas, sus nacionalidades, el género de los artistas, y el año en que las obras fueron compradas. El museo, como muchas otras instituciones culturales, enfrenta el desafío de mantener una colección diversa y representativa de artistas de todo el mundo.\n",
        "\n",
        "\n",
        "\n",
        "\n",
        "**Contexto analítico.**\n",
        "El análisis se centra en entender cómo se distribuyen las adquisiciones de arte a lo largo del tiempo, según el género y la nacionalidad de los artistas. A partir de los datos históricos, buscamos insights que permitan mejorar la representación de artistas y diversificar la colección.Para abordar el objetivo de mejorar la planificación de adquisiciones del museo, se utilizan datos históricos sobre las obras de arte adquiridas. Estos datos incluyen información sobre:\n",
        "Fecha de adquisición: permite analizar tendencias a lo largo del tiempo y detectar patrones de compra.\n",
        "Nacionalidad de los artistas: permite evaluar la diversidad cultural representada en la colección.\n",
        "Género de los artistas: posibilita medir la representación equitativa entre artistas masculinos y femeninos.\n",
        "Características de las obras: como técnica, estilo y valor estimado, para evaluar la diversidad artística.\n",
        "El análisis de estos datos se lleva a cabo mediante técnicas de visualización y resúmenes numéricos que permiten identificar patrones en las adquisiciones, tales como la concentración de obras de artistas de ciertos países o la falta de representación de mujeres artistas. Estas técnicas permiten extraer insights clave que apoyarán en la toma de decisiones estratégicas para las futuras adquisiciones del museo, fomentando una colección más equilibrada y representativa.\n",
        "\n"
      ],
      "metadata": {
        "id": "9fzfvracGalf"
      }
    },
    {
      "cell_type": "markdown",
      "source": [
        "## ***Exploración de datos***\n",
        "\n",
        "Recomendaciones basadas en los insights observados\n",
        "\n",
        "*  Equilibrio en la representación por género: Uno de los insights más claros es la desproporción entre artistas masculinos y femeninos. Aquí podrías sugerir que el museo enfoque parte de sus adquisiciones futuras en obras de mujeres artistas, para equilibrar la balanza y promover la diversidad de la colección. Es una oportunidad para ser parte de un movimiento global de inclusión en el arte.\n",
        "*  Diversificación de nacionalidades: Si el análisis mostró que ciertas nacionalidades están subrepresentadas, podrías recomendar que el museo amplíe su red de adquisiciones a artistas de regiones menos representadas. Esto no solo aportaría una mayor diversidad cultural, sino que también atraería a un público más amplio y variado, interesado en ver reflejada una pluralidad de voces.\n",
        "\n",
        "\n",
        "*  Años de adquisición y patrones históricos: Observaste picos en adquisiciones en ciertos años. Esto podría ser una señal de cómo los factores externos, como las crisis económicas o las políticas del gobierno, afectan las decisiones de compra del museo. Aquí, podrías sugerir que el museo planifique sus adquisiciones de manera más constante, independientemente de las fluctuaciones externas, para evitar esos picos o valles pronunciados.\n",
        "\n",
        "\n",
        "*  Priorización de adquisiciones según la demanda: Basado en los datos históricos, podrías identificar las épocas o tipos de obras que han tenido mayor demanda o interés en el pasado. Esto podría ayudar al museo a priorizar futuras adquisiciones que generen un mayor atractivo para sus visitantes.\n",
        "\n",
        "\n",
        "\n",
        "\n",
        "\n",
        "\n",
        "\n",
        "\n",
        "\n",
        "\n",
        "\n"
      ],
      "metadata": {
        "id": "d91bHgIVH5fi"
      }
    },
    {
      "cell_type": "markdown",
      "source": [
        "## ***Aprendizaje Supervisado***\n",
        " El objetivo principal es utilizar los datos históricos del museo para predecir tendencias futuras, como la cantidad de adquisiciones, la representación de artistas por género y nacionalidad, y el comportamiento de las adquisiciones a lo largo del tiempo.\n",
        "Este enfoque es el más adecuado porque se dispone de datos con etiquetas claras (por ejemplo, el número de adquisiciones, nacionalidad, género, año de adquisición), que permiten entrenar un modelo con el fin de realizar predicciones. En este contexto, el aprendizaje supervisado permitirá al museo optimizar sus decisiones de compra y asegurar una representación más equilibrada en su colección.\n",
        "Posibles modelos de resolución\n",
        "Para resolver este problema, se pueden considerar varios modelos de aprendizaje supervisado que se ajustan al tipo de datos y a los objetivos del análisis:\n",
        "\n",
        "*Regresión lineal/múltiple*\n",
        "Objetivo: Predecir el número de adquisiciones futuras en función de variables como el año, la nacionalidad de los artistas, el género, o el estilo artístico.\n",
        "Justificación: Este modelo es útil para entender cómo las variables independientes (por ejemplo, el año y la nacionalidad) afectan una variable dependiente continua, como el número de adquisiciones. Sería un buen modelo inicial para prever cuántas adquisiciones podría hacer el museo en un futuro cercano.\n",
        "\n",
        "*Árboles de decisión*\n",
        "Objetivo: Identificar las variables más importantes que afectan las adquisiciones y hacer predicciones basadas en esas variables.\n",
        "Justificación: Los árboles de decisión son fáciles de interpretar y permiten visualizar cómo diferentes factores, como la nacionalidad o el género, influyen en el número de adquisiciones. Además, pueden manejar relaciones no lineales entre las variables.\n",
        "\n",
        "*Random Forest*\n",
        "Objetivo: Mejorar la precisión de las predicciones y evitar sobreajustes mediante el uso de múltiples árboles de decisión.\n",
        "Justificación: Random Forest es un modelo robusto que utiliza un conjunto de árboles de decisión para generar predicciones más precisas y reducir la varianza. Es ideal para situaciones en las que los datos pueden tener ruido o complejidad no capturada por un solo árbol de decisión.\n",
        "\n",
        "*Regresión logística*\n",
        "Objetivo: Predecir la probabilidad de un evento binario, como si una adquisición será de un artista de género femenino o masculino, o si una obra será adquirida o no en un determinado año.\n",
        "Justificación: Aunque es comúnmente utilizada para problemas de clasificación binaria, este modelo podría ser útil para determinar la probabilidad de ciertos tipos de adquisiciones, como prever si un artista de una nacionalidad subrepresentada tiene una mayor probabilidad de ser adquirido en función de las tendencias históricas.\n",
        "\n",
        "Support Vector Machines (SVM)\n",
        "Objetivo: Clasificar adquisiciones futuras en función de variables como el género o la nacionalidad del artista.\n",
        "Justificación: SVM es un modelo poderoso para problemas de clasificación y podría ser útil si se desea segmentar las adquisiciones en categorías específicas.\n"
      ],
      "metadata": {
        "id": "Qr9SIha-IE_v"
      }
    },
    {
      "cell_type": "code",
      "source": [
        "import pandas as pd\n",
        "import numpy as np\n",
        "import gc\n",
        "from google.colab import drive\n",
        "import os\n",
        "\n",
        "drive.mount('/content/gdrive')\n",
        "os.chdir('/content/gdrive/MyDrive/Coder /Dataset')\n",
        "\n",
        "df = pd.read_csv('df_moma.csv', dtype={\n",
        "    'ObjectID': 'object',\n",
        "    'Circumference (cm)': 'object',\n",
        "    'Depth (cm)': 'object',\n",
        "    'Diameter (cm)': 'object',\n",
        "    'Height (cm)': 'object',\n",
        "    'Length (cm)': 'object',\n",
        "    'Width (cm)': 'object',\n",
        "}, low_memory=False)\n",
        "\n",
        "\n",
        "columns_to_drop = ['Title', 'ArtistBio', 'Dimensions', 'ObjectID', 'AccessionNumber',\n",
        "                   'CreditLine', 'Seat Height (cm)', 'Duration (sec.)']\n",
        "df.drop(columns=columns_to_drop, inplace=True)\n",
        "\n",
        "\n",
        "df['Medium'] = df['Medium'].astype('category')\n",
        "df['Classification'] = df['Classification'].astype('category')\n",
        "df['Department'] = df['Department'].astype('category')\n",
        "\n",
        "\n",
        "if 'YearAcquired' in df.columns:\n",
        "\n",
        "    df['YearAcquired'] = pd.to_numeric(df['YearAcquired'], errors='coerce', downcast='integer')\n",
        "else:\n",
        "\n",
        "    print(\"La columna 'YearAcquired' no se encuentra en el DataFrame.\")\n",
        "\n",
        "\n",
        "df['DateAcquired'] = pd.to_datetime(df['DateAcquired'], errors='coerce')\n",
        "\n",
        "\n",
        "if 'YearAcquired' in df.columns:\n",
        "    df['YearAcquired'] = df['DateAcquired'].dt.year\n",
        "    df.dropna(subset=['YearAcquired'], inplace=True)\n",
        "else:\n",
        "\n",
        "    df['YearAcquired'] = df['DateAcquired'].dt.year\n",
        "    df.dropna(subset=['YearAcquired'], inplace=True)\n",
        "\n",
        "def process_data(temp_df):\n",
        "    del temp_df\n",
        "    gc.collect()\n",
        "\n",
        "df.to_csv('df_moma_cleaned.csv', index=False)\n"
      ],
      "metadata": {
        "colab": {
          "base_uri": "https://localhost:8080/"
        },
        "id": "CD7YCVWCsCgQ",
        "outputId": "41e70e95-26d5-4dd3-9a97-1f0a7d441dc0"
      },
      "execution_count": 6,
      "outputs": [
        {
          "output_type": "stream",
          "name": "stdout",
          "text": [
            "Drive already mounted at /content/gdrive; to attempt to forcibly remount, call drive.mount(\"/content/gdrive\", force_remount=True).\n",
            "La columna 'YearAcquired' no se encuentra en el DataFrame.\n"
          ]
        }
      ]
    },
    {
      "cell_type": "markdown",
      "source": [
        "## **Entrenamiento de modelos**\n",
        "\n"
      ],
      "metadata": {
        "id": "1krNhky58Opp"
      }
    },
    {
      "cell_type": "code",
      "source": [
        "import numpy as np\n",
        "import pandas as pd\n",
        "from sklearn.model_selection import train_test_split # Import the train_test_split function\n",
        "\n",
        "df_moma_cleaned = pd.read_csv('df_moma_cleaned.csv')\n",
        "\n",
        "df_sample = df_moma_cleaned.sample(frac=0.2, random_state=42)\n",
        "\n",
        "X_sample = df_sample[['Medium', 'Classification', 'Department', 'Nationality', 'Date']]\n",
        "y_sample = df_sample['YearAcquired']\n",
        "\n",
        "X_sample = pd.get_dummies(X_sample, drop_first=True)\n",
        "\n",
        "X_train, X_test, y_train, y_test = train_test_split(X_sample, y_sample, test_size=0.2, random_state=42)\n",
        "\n",
        "\n",
        "\n",
        "#MODELO DE REGRESION\n",
        "from sklearn.tree import DecisionTreeRegressor\n",
        "\n",
        "regressor = DecisionTreeRegressor(random_state=42)\n",
        "regressor.fit(X_train, y_train)\n",
        "\n",
        "y_pred_reg = regressor.predict(X_test)\n",
        "\n",
        "\n",
        "#MODELO DE CLASIFICACION\n",
        "from sklearn.tree import DecisionTreeClassifier\n",
        "\n",
        "classifier = DecisionTreeClassifier(random_state=42)\n",
        "classifier.fit(X_train, y_train)\n",
        "\n",
        "y_pred_class = classifier.predict(X_test)\n"
      ],
      "metadata": {
        "id": "Adi1swhT5wWr"
      },
      "execution_count": 7,
      "outputs": []
    },
    {
      "cell_type": "markdown",
      "source": [
        "## **Calculo de metricas Modelo de Regresion**"
      ],
      "metadata": {
        "id": "b0GFEcOgebCn"
      }
    },
    {
      "cell_type": "code",
      "source": [
        "from sklearn.metrics import r2_score, mean_absolute_error, mean_squared_error\n",
        "\n",
        "r2 = r2_score(y_test, y_pred_reg)\n",
        "mae = mean_absolute_error(y_test, y_pred_reg)\n",
        "rmse = np.sqrt(mean_squared_error(y_test, y_pred_reg))\n",
        "\n",
        "print(f\"R²: {r2:.2f}\")\n",
        "print(f\"MAE: {mae:.2f}\")\n",
        "print(f\"RMSE: {rmse:.2f}\")\n"
      ],
      "metadata": {
        "colab": {
          "base_uri": "https://localhost:8080/"
        },
        "id": "R_R69ekged9D",
        "outputId": "d5333913-7105-4c56-dd2d-e3636d17eb4b"
      },
      "execution_count": 8,
      "outputs": [
        {
          "output_type": "stream",
          "name": "stdout",
          "text": [
            "R²: 0.57\n",
            "MAE: 6.91\n",
            "RMSE: 14.73\n"
          ]
        }
      ]
    },
    {
      "cell_type": "markdown",
      "source": [
        "## **Calculo de metricas Modelo de Clasificacion**"
      ],
      "metadata": {
        "id": "-cGWxs04f_gM"
      }
    },
    {
      "cell_type": "code",
      "source": [
        "from sklearn.metrics import accuracy_score, confusion_matrix, classification_report\n",
        "\n",
        "accuracy = accuracy_score(y_test, y_pred_class)\n",
        "conf_matrix = confusion_matrix(y_test, y_pred_class)\n",
        "class_report = classification_report(y_test, y_pred_class)\n",
        "\n",
        "print(f\"Accuracy: {accuracy:.2f}\")\n",
        "print(f\"Confusion Matrix:\\n{conf_matrix}\")\n",
        "print(f\"Classification Report:\\n{class_report}\")\n"
      ],
      "metadata": {
        "colab": {
          "base_uri": "https://localhost:8080/"
        },
        "id": "yvXsnovRf-0L",
        "outputId": "8cb06136-10c7-41ab-ccc4-c0d462eb7d58"
      },
      "execution_count": 9,
      "outputs": [
        {
          "output_type": "stream",
          "name": "stdout",
          "text": [
            "Accuracy: 0.61\n",
            "Confusion Matrix:\n",
            "[[ 0  0  0 ...  0  0  0]\n",
            " [ 0  3  0 ...  0  0  0]\n",
            " [ 0  0  3 ...  0  0  0]\n",
            " ...\n",
            " [ 0  0  0 ... 89  1  0]\n",
            " [ 0  0  0 ...  1 42  1]\n",
            " [ 0  0  0 ...  0  2 23]]\n",
            "Classification Report:\n",
            "              precision    recall  f1-score   support\n",
            "\n",
            "      1932.0       0.00      0.00      0.00         1\n",
            "      1933.0       1.00      0.75      0.86         4\n",
            "      1934.0       0.38      0.50      0.43         6\n",
            "      1935.0       0.92      0.61      0.73        18\n",
            "      1936.0       0.33      0.25      0.29         8\n",
            "      1937.0       0.40      0.43      0.41        14\n",
            "      1938.0       0.00      0.00      0.00         7\n",
            "      1939.0       0.28      0.41      0.33        17\n",
            "      1940.0       0.40      0.67      0.50        52\n",
            "      1941.0       0.49      0.51      0.50        35\n",
            "      1942.0       0.39      0.64      0.48        25\n",
            "      1943.0       0.75      0.80      0.78        50\n",
            "      1944.0       0.56      0.28      0.37        18\n",
            "      1945.0       0.86      0.43      0.57        14\n",
            "      1946.0       0.75      0.43      0.55         7\n",
            "      1947.0       0.50      0.47      0.48        15\n",
            "      1948.0       0.22      0.21      0.22        19\n",
            "      1949.0       0.58      0.61      0.60        69\n",
            "      1950.0       0.36      0.24      0.29        21\n",
            "      1951.0       0.41      0.50      0.45        24\n",
            "      1952.0       0.46      0.33      0.39        18\n",
            "      1953.0       0.50      0.23      0.32        13\n",
            "      1954.0       0.32      0.37      0.34        30\n",
            "      1955.0       0.50      0.31      0.38        13\n",
            "      1956.0       0.22      0.44      0.30        41\n",
            "      1957.0       0.11      0.07      0.08        15\n",
            "      1958.0       0.78      0.50      0.61        28\n",
            "      1959.0       0.31      0.41      0.35        32\n",
            "      1960.0       0.50      0.40      0.44        20\n",
            "      1961.0       0.11      0.06      0.08        31\n",
            "      1962.0       0.25      0.22      0.24        18\n",
            "      1963.0       0.59      0.56      0.57        36\n",
            "      1964.0       0.90      0.92      0.91       502\n",
            "      1965.0       0.78      0.63      0.70        73\n",
            "      1966.0       0.65      0.59      0.62        73\n",
            "      1967.0       0.51      0.41      0.46       102\n",
            "      1968.0       0.89      0.86      0.87       309\n",
            "      1969.0       0.49      0.49      0.49        90\n",
            "      1970.0       0.62      0.51      0.56        49\n",
            "      1971.0       0.45      0.61      0.52        36\n",
            "      1972.0       0.60      0.75      0.67        28\n",
            "      1973.0       0.73      0.46      0.57        41\n",
            "      1974.0       0.75      0.79      0.77       135\n",
            "      1975.0       0.76      0.52      0.62        42\n",
            "      1976.0       0.21      0.22      0.21        23\n",
            "      1977.0       0.65      0.37      0.47        54\n",
            "      1978.0       0.51      0.40      0.45        57\n",
            "      1979.0       0.35      0.36      0.35        42\n",
            "      1980.0       0.33      0.26      0.29        19\n",
            "      1981.0       0.45      0.57      0.50        56\n",
            "      1982.0       0.67      0.36      0.46        45\n",
            "      1983.0       0.55      0.46      0.50        52\n",
            "      1984.0       0.62      0.33      0.43        40\n",
            "      1985.0       0.54      0.47      0.50        45\n",
            "      1986.0       0.56      0.58      0.57        31\n",
            "      1987.0       0.67      0.51      0.58        47\n",
            "      1988.0       0.65      0.62      0.63        50\n",
            "      1989.0       0.60      0.59      0.60        54\n",
            "      1990.0       0.61      0.47      0.53        36\n",
            "      1991.0       0.61      0.42      0.50        33\n",
            "      1992.0       0.47      0.48      0.47        46\n",
            "      1993.0       0.52      0.67      0.59        43\n",
            "      1994.0       0.25      0.35      0.29        40\n",
            "      1995.0       0.32      0.31      0.32        32\n",
            "      1996.0       0.35      0.33      0.34        58\n",
            "      1997.0       0.46      0.24      0.32        45\n",
            "      1998.0       0.62      0.38      0.48        52\n",
            "      1999.0       0.77      0.61      0.68        80\n",
            "      2000.0       0.31      0.45      0.36        73\n",
            "      2001.0       0.51      0.73      0.60       123\n",
            "      2002.0       0.58      0.54      0.56        35\n",
            "      2003.0       0.30      0.17      0.21        18\n",
            "      2004.0       0.41      0.35      0.38        34\n",
            "      2005.0       0.47      0.65      0.55       144\n",
            "      2006.0       0.65      0.61      0.63        59\n",
            "      2007.0       0.57      0.52      0.54        99\n",
            "      2008.0       0.72      0.83      0.77       298\n",
            "      2009.0       0.65      0.49      0.56        69\n",
            "      2010.0       0.76      0.74      0.75        88\n",
            "      2011.0       0.42      0.64      0.50        66\n",
            "      2012.0       0.67      0.69      0.68       134\n",
            "      2013.0       0.79      0.63      0.70       131\n",
            "      2014.0       0.64      0.70      0.67       109\n",
            "      2015.0       0.54      0.56      0.55       160\n",
            "      2016.0       0.66      0.61      0.63        69\n",
            "      2017.0       0.74      0.57      0.65        40\n",
            "\n",
            "    accuracy                           0.61      5028\n",
            "   macro avg       0.52      0.48      0.49      5028\n",
            "weighted avg       0.62      0.61      0.61      5028\n",
            "\n"
          ]
        },
        {
          "output_type": "stream",
          "name": "stderr",
          "text": [
            "/usr/local/lib/python3.10/dist-packages/sklearn/metrics/_classification.py:1531: UndefinedMetricWarning: Precision is ill-defined and being set to 0.0 in labels with no predicted samples. Use `zero_division` parameter to control this behavior.\n",
            "  _warn_prf(average, modifier, f\"{metric.capitalize()} is\", len(result))\n",
            "/usr/local/lib/python3.10/dist-packages/sklearn/metrics/_classification.py:1531: UndefinedMetricWarning: Precision is ill-defined and being set to 0.0 in labels with no predicted samples. Use `zero_division` parameter to control this behavior.\n",
            "  _warn_prf(average, modifier, f\"{metric.capitalize()} is\", len(result))\n",
            "/usr/local/lib/python3.10/dist-packages/sklearn/metrics/_classification.py:1531: UndefinedMetricWarning: Precision is ill-defined and being set to 0.0 in labels with no predicted samples. Use `zero_division` parameter to control this behavior.\n",
            "  _warn_prf(average, modifier, f\"{metric.capitalize()} is\", len(result))\n"
          ]
        }
      ]
    },
    {
      "cell_type": "markdown",
      "source": [
        "## ***Conclusión***\n",
        "\n",
        "*  *Influencia del Artista en las Adquisiciones.*\n",
        "  La influencia del artista parece no tener el suficiente impacto como para generar un modelo altamente preciso. Tanto en regresión como en clasificación, los errores indican que aunque el artista es relevante, no es un factor determinante absoluto en las adquisiciones.\n",
        "  El modelo de clasificación muestra mejores resultados para ciertos años en los que algunos artistas están más representados, lo que podría sugerir una relación, pero no es constante para todos los años.\n",
        "  \n",
        "  Aunque el modelo indica que hay cierta relación entre el artista y las adquisiciones en años específicos, el error en la predicción y la variabilidad en las métricas sugieren que el artista no es el único factor relevante. Otros factores, como la técnica o el origen del artista, también parecen influir en las adquisiciones.\n",
        "\n",
        "\n",
        "*  *Influencia del País de Origen en las Adquisiciones.*\n",
        "   En los modelos de clasificación y regresión, los errores tienden a ser mayores cuando se considera el país de origen como una característica clave para predecir las adquisiciones. Esto sugiere que, aunque el país de origen pueda tener alguna relevancia, no es suficiente para mejorar significativamente la precisión del modelo.\n",
        "   \n",
        "   El país de origen no parece ser un factor fuerte en la predicción de las adquisiciones, al menos no en aislamiento. Puede que esté vinculado a otros elementos (como el artista o la época), pero por sí solo no parece tener una correlación alta con las adquisiciones en el museo.\n",
        "\n",
        "\n",
        "\n",
        "*  Tendencias en la Técnica o Material en las Adquisiciones.\n",
        "  Esta hipótesis es la que parece tener más respaldo según los resultados de los modelos. La regresión tiene un R² de 0.57, lo que indica que las variables seleccionadas, incluidas las técnicas o materiales, explican más de la mitad de la variabilidad en las adquisiciones. Sin embargo, los altos valores de error (MAE y RMSE) indican que no es una predicción completamente precisa.\n",
        "  Las técnicas o materiales sí parecen tener una influencia considerable en las adquisiciones. Sin embargo, el modelo aún comete errores notables, lo que sugiere que estos factores deben combinarse con otros (como el artista o el país de origen) para obtener una predicción más precisa.\n",
        "\n",
        "\n",
        "\n",
        "En base a los resultados obtenidos con los modelos de regresión y clasificación, podemos concluir que:\n",
        "    Las adquisiciones del museo parecen estar impulsadas por una combinación de factores, siendo la técnica o material el más relevante, seguido de la influencia del artista. El país de origen, por otro lado, parece jugar un papel menor. Para futuros análisis, sería interesante explorar modelos más complejos o incluso probar con otros tipos de datos que puedan mejorar la capacidad predictiva."
      ],
      "metadata": {
        "id": "oExEWe4EiuQ-"
      }
    }
  ]
}